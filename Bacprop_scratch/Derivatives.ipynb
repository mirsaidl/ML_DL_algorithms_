{
 "cells": [
  {
   "cell_type": "code",
   "execution_count": 1,
   "id": "1d972002",
   "metadata": {},
   "outputs": [],
   "source": [
    "from sympy import symbols, diff"
   ]
  },
  {
   "cell_type": "code",
   "execution_count": 2,
   "id": "c708a544",
   "metadata": {},
   "outputs": [
    {
     "data": {
      "text/plain": [
       "6.000999999999479"
      ]
     },
     "execution_count": 2,
     "metadata": {},
     "output_type": "execute_result"
    }
   ],
   "source": [
    "J = (3) ** 2\n",
    "J_epsilon = (3+0.001)**2\n",
    "k = (J_epsilon-J)/0.001\n",
    "k"
   ]
  },
  {
   "cell_type": "code",
   "execution_count": 3,
   "id": "7804a39d",
   "metadata": {},
   "outputs": [],
   "source": [
    "# with sympy\n",
    "J, w = symbols('J, w')"
   ]
  },
  {
   "cell_type": "code",
   "execution_count": 4,
   "id": "75e27d6e",
   "metadata": {},
   "outputs": [
    {
     "data": {
      "text/latex": [
       "$\\displaystyle w^{2}$"
      ],
      "text/plain": [
       "w**2"
      ]
     },
     "execution_count": 4,
     "metadata": {},
     "output_type": "execute_result"
    }
   ],
   "source": [
    "J = w ** 2\n",
    "J"
   ]
  },
  {
   "cell_type": "code",
   "execution_count": 5,
   "id": "f8134e8b",
   "metadata": {},
   "outputs": [
    {
     "data": {
      "text/latex": [
       "$\\displaystyle 2 w$"
      ],
      "text/plain": [
       "2*w"
      ]
     },
     "execution_count": 5,
     "metadata": {},
     "output_type": "execute_result"
    }
   ],
   "source": [
    "dJ_dw = diff(J,w)\n",
    "dJ_dw"
   ]
  },
  {
   "cell_type": "code",
   "execution_count": 6,
   "id": "47f9eb79",
   "metadata": {},
   "outputs": [
    {
     "data": {
      "text/latex": [
       "$\\displaystyle 4$"
      ],
      "text/plain": [
       "4"
      ]
     },
     "execution_count": 6,
     "metadata": {},
     "output_type": "execute_result"
    }
   ],
   "source": [
    "dJ_dw.subs([(w,2)])"
   ]
  },
  {
   "cell_type": "code",
   "execution_count": 7,
   "id": "35f1a581",
   "metadata": {},
   "outputs": [
    {
     "data": {
      "text/latex": [
       "$\\displaystyle 6$"
      ],
      "text/plain": [
       "6"
      ]
     },
     "execution_count": 7,
     "metadata": {},
     "output_type": "execute_result"
    }
   ],
   "source": [
    "dJ_dw.subs([(w,3)])"
   ]
  },
  {
   "cell_type": "code",
   "execution_count": 8,
   "id": "4b3c4904",
   "metadata": {},
   "outputs": [],
   "source": [
    "# J = 2w\n",
    "w, J = symbols('w, J')"
   ]
  },
  {
   "cell_type": "code",
   "execution_count": 9,
   "id": "b82e5a7e",
   "metadata": {},
   "outputs": [
    {
     "data": {
      "text/latex": [
       "$\\displaystyle 2 w$"
      ],
      "text/plain": [
       "2*w"
      ]
     },
     "execution_count": 9,
     "metadata": {},
     "output_type": "execute_result"
    }
   ],
   "source": [
    "J = 2 * w\n",
    "J"
   ]
  },
  {
   "cell_type": "code",
   "execution_count": 10,
   "id": "99535677",
   "metadata": {},
   "outputs": [
    {
     "data": {
      "text/latex": [
       "$\\displaystyle 2$"
      ],
      "text/plain": [
       "2"
      ]
     },
     "execution_count": 10,
     "metadata": {},
     "output_type": "execute_result"
    }
   ],
   "source": [
    "der_w = diff(J,w)\n",
    "der_w"
   ]
  },
  {
   "cell_type": "code",
   "execution_count": 11,
   "id": "c2dc33c8",
   "metadata": {},
   "outputs": [
    {
     "data": {
      "text/latex": [
       "$\\displaystyle -6$"
      ],
      "text/plain": [
       "-6"
      ]
     },
     "execution_count": 11,
     "metadata": {},
     "output_type": "execute_result"
    }
   ],
   "source": [
    "dJ_dw.subs([(w,-3)])  "
   ]
  },
  {
   "cell_type": "code",
   "execution_count": 12,
   "id": "96ecf689",
   "metadata": {},
   "outputs": [
    {
     "name": "stdout",
     "output_type": "stream",
     "text": [
      "J = 6, J_epsilon = 6.002, dJ_dw ~= k = 1.9999999999997797 \n"
     ]
    }
   ],
   "source": [
    "J = 2*3\n",
    "J_epsilon = 2*(3 + 0.001)\n",
    "k = (J_epsilon - J)/0.001\n",
    "print(f\"J = {J}, J_epsilon = {J_epsilon}, dJ_dw ~= k = {k} \")"
   ]
  },
  {
   "cell_type": "code",
   "execution_count": null,
   "id": "61ef090a",
   "metadata": {},
   "outputs": [],
   "source": []
  }
 ],
 "metadata": {
  "kernelspec": {
   "display_name": "Python 3 (ipykernel)",
   "language": "python",
   "name": "python3"
  },
  "language_info": {
   "codemirror_mode": {
    "name": "ipython",
    "version": 3
   },
   "file_extension": ".py",
   "mimetype": "text/x-python",
   "name": "python",
   "nbconvert_exporter": "python",
   "pygments_lexer": "ipython3",
   "version": "3.11.5"
  }
 },
 "nbformat": 4,
 "nbformat_minor": 5
}
