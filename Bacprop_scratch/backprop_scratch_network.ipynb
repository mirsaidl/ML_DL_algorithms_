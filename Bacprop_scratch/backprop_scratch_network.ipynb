{
 "cells": [
  {
   "cell_type": "code",
   "execution_count": 70,
   "id": "b30e1e3f",
   "metadata": {},
   "outputs": [],
   "source": [
    "import numpy as np\n",
    "import neuron_funcs as nf"
   ]
  },
  {
   "cell_type": "code",
   "execution_count": 71,
   "id": "70107563",
   "metadata": {},
   "outputs": [],
   "source": [
    "rng = np.random.default_rng(2)\n",
    "x = rng.random(400).reshape(-1,2)\n",
    "x[:,1] = x[:,1] * 4 + 11.5          # 12-15 min is best\n",
    "x[:,0] = x[:,0] * (285-150) + 150  # 350-500 F (175-260 C) is best\n",
    "y = np.zeros(len(X))"
   ]
  },
  {
   "cell_type": "code",
   "execution_count": 72,
   "id": "e935b43b",
   "metadata": {},
   "outputs": [],
   "source": [
    "input_units = x.shape[1]\n",
    "hidden_units = 2\n",
    "output_units = 1\n",
    "np.random.seed(0)"
   ]
  },
  {
   "cell_type": "code",
   "execution_count": 73,
   "id": "ac68bbb4",
   "metadata": {},
   "outputs": [
    {
     "data": {
      "text/plain": [
       "((2, 2), (2, 1), (1, 2), (1, 1))"
      ]
     },
     "execution_count": 73,
     "metadata": {},
     "output_type": "execute_result"
    }
   ],
   "source": [
    "w1 = np.random.randn(input_units, hidden_units)\n",
    "w2 = np.random.randn(hidden_units, output_units)\n",
    "b1 = np.zeros((1, hidden_units))\n",
    "b2 = np.zeros((1, output_units))\n",
    "w1.shape, w2.shape, b1.shape, b2.shape"
   ]
  },
  {
   "cell_type": "code",
   "execution_count": 86,
   "id": "8afdf5e5",
   "metadata": {},
   "outputs": [
    {
     "ename": "ValueError",
     "evalue": "operands could not be broadcast together with shapes (200,) (200,2) ",
     "output_type": "error",
     "traceback": [
      "\u001b[1;31m---------------------------------------------------------------------------\u001b[0m",
      "\u001b[1;31mValueError\u001b[0m                                Traceback (most recent call last)",
      "Cell \u001b[1;32mIn[86], line 6\u001b[0m\n\u001b[0;32m      3\u001b[0m epochs \u001b[38;5;241m=\u001b[39m \u001b[38;5;241m40\u001b[39m\n\u001b[0;32m      4\u001b[0m num_class \u001b[38;5;241m=\u001b[39m \u001b[38;5;241m2\u001b[39m\n\u001b[1;32m----> 6\u001b[0m nf\u001b[38;5;241m.\u001b[39mfit(x, y, \u001b[38;5;241m3\u001b[39m ,num_class, lr, epochs)\n",
      "File \u001b[1;32m~\\Desktop\\Week 2\\neuron_funcs.py:67\u001b[0m, in \u001b[0;36mfit\u001b[1;34m(X, y, hidden_size, num_classes, learning_rate, epochs)\u001b[0m\n\u001b[0;32m     64\u001b[0m \u001b[38;5;66;03m# Training loop\u001b[39;00m\n\u001b[0;32m     65\u001b[0m \u001b[38;5;28;01mfor\u001b[39;00m epoch \u001b[38;5;129;01min\u001b[39;00m \u001b[38;5;28mrange\u001b[39m(epochs):\n\u001b[0;32m     66\u001b[0m     \u001b[38;5;66;03m# Forward propagation\u001b[39;00m\n\u001b[1;32m---> 67\u001b[0m     hidden_output, output \u001b[38;5;241m=\u001b[39m forward_propagation(X, W1, W2, b1, b2)\n\u001b[0;32m     69\u001b[0m     \u001b[38;5;66;03m# Backpropagation\u001b[39;00m\n\u001b[0;32m     70\u001b[0m     W1, W2, b1, b2 \u001b[38;5;241m=\u001b[39m backpropagation(X, y, hidden_output, output, W1, W2, b1, b2, learning_rate)\n",
      "File \u001b[1;32m~\\Desktop\\Week 2\\neuron_funcs.py:35\u001b[0m, in \u001b[0;36mbackpropagation\u001b[1;34m(X, y, hidden_output, output, W1, W2, b1, b2, learning_rate)\u001b[0m\n\u001b[0;32m     31\u001b[0m     output = sigmoid(output)\n\u001b[0;32m     33\u001b[0m     return hidden_output, output\n\u001b[1;32m---> 35\u001b[0m # Define backpropagation\n\u001b[0;32m     36\u001b[0m def backpropagation(X, y, hidden_output, output, W1, W2, b1, b2, learning_rate):\n\u001b[0;32m     37\u001b[0m     # Compute error at output layer\n\u001b[0;32m     38\u001b[0m     output_error = y - output\n",
      "\u001b[1;31mValueError\u001b[0m: operands could not be broadcast together with shapes (200,) (200,2) "
     ]
    }
   ],
   "source": [
    "# Hyperparameters\n",
    "lr = 0.001\n",
    "epochs = 40\n",
    "num_class = 2\n",
    "\n",
    "nf.fit(x, y, 3 ,num_class, lr, epochs)"
   ]
  },
  {
   "cell_type": "code",
   "execution_count": null,
   "id": "9c086663",
   "metadata": {},
   "outputs": [],
   "source": []
  }
 ],
 "metadata": {
  "kernelspec": {
   "display_name": "Python 3 (ipykernel)",
   "language": "python",
   "name": "python3"
  },
  "language_info": {
   "codemirror_mode": {
    "name": "ipython",
    "version": 3
   },
   "file_extension": ".py",
   "mimetype": "text/x-python",
   "name": "python",
   "nbconvert_exporter": "python",
   "pygments_lexer": "ipython3",
   "version": "3.11.5"
  }
 },
 "nbformat": 4,
 "nbformat_minor": 5
}
