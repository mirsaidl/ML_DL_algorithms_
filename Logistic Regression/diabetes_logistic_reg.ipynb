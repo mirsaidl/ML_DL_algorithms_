{
 "cells": [
  {
   "cell_type": "code",
   "execution_count": 1,
   "id": "bc9d9e5b",
   "metadata": {},
   "outputs": [],
   "source": [
    "import pandas as pd\n",
    "import numpy as np"
   ]
  },
  {
   "cell_type": "code",
   "execution_count": 3,
   "id": "21884258",
   "metadata": {},
   "outputs": [
    {
     "data": {
      "text/html": [
       "<div>\n",
       "<style scoped>\n",
       "    .dataframe tbody tr th:only-of-type {\n",
       "        vertical-align: middle;\n",
       "    }\n",
       "\n",
       "    .dataframe tbody tr th {\n",
       "        vertical-align: top;\n",
       "    }\n",
       "\n",
       "    .dataframe thead th {\n",
       "        text-align: right;\n",
       "    }\n",
       "</style>\n",
       "<table border=\"1\" class=\"dataframe\">\n",
       "  <thead>\n",
       "    <tr style=\"text-align: right;\">\n",
       "      <th></th>\n",
       "      <th>Pregnancies</th>\n",
       "      <th>Glucose</th>\n",
       "      <th>BloodPressure</th>\n",
       "      <th>SkinThickness</th>\n",
       "      <th>Insulin</th>\n",
       "      <th>BMI</th>\n",
       "      <th>DiabetesPedigreeFunction</th>\n",
       "      <th>Age</th>\n",
       "      <th>Outcome</th>\n",
       "    </tr>\n",
       "  </thead>\n",
       "  <tbody>\n",
       "    <tr>\n",
       "      <th>0</th>\n",
       "      <td>6</td>\n",
       "      <td>148</td>\n",
       "      <td>72</td>\n",
       "      <td>35</td>\n",
       "      <td>0</td>\n",
       "      <td>33.6</td>\n",
       "      <td>0.627</td>\n",
       "      <td>50</td>\n",
       "      <td>1</td>\n",
       "    </tr>\n",
       "    <tr>\n",
       "      <th>1</th>\n",
       "      <td>1</td>\n",
       "      <td>85</td>\n",
       "      <td>66</td>\n",
       "      <td>29</td>\n",
       "      <td>0</td>\n",
       "      <td>26.6</td>\n",
       "      <td>0.351</td>\n",
       "      <td>31</td>\n",
       "      <td>0</td>\n",
       "    </tr>\n",
       "    <tr>\n",
       "      <th>2</th>\n",
       "      <td>8</td>\n",
       "      <td>183</td>\n",
       "      <td>64</td>\n",
       "      <td>0</td>\n",
       "      <td>0</td>\n",
       "      <td>23.3</td>\n",
       "      <td>0.672</td>\n",
       "      <td>32</td>\n",
       "      <td>1</td>\n",
       "    </tr>\n",
       "    <tr>\n",
       "      <th>3</th>\n",
       "      <td>1</td>\n",
       "      <td>89</td>\n",
       "      <td>66</td>\n",
       "      <td>23</td>\n",
       "      <td>94</td>\n",
       "      <td>28.1</td>\n",
       "      <td>0.167</td>\n",
       "      <td>21</td>\n",
       "      <td>0</td>\n",
       "    </tr>\n",
       "    <tr>\n",
       "      <th>4</th>\n",
       "      <td>0</td>\n",
       "      <td>137</td>\n",
       "      <td>40</td>\n",
       "      <td>35</td>\n",
       "      <td>168</td>\n",
       "      <td>43.1</td>\n",
       "      <td>2.288</td>\n",
       "      <td>33</td>\n",
       "      <td>1</td>\n",
       "    </tr>\n",
       "  </tbody>\n",
       "</table>\n",
       "</div>"
      ],
      "text/plain": [
       "   Pregnancies  Glucose  BloodPressure  SkinThickness  Insulin   BMI  \\\n",
       "0            6      148             72             35        0  33.6   \n",
       "1            1       85             66             29        0  26.6   \n",
       "2            8      183             64              0        0  23.3   \n",
       "3            1       89             66             23       94  28.1   \n",
       "4            0      137             40             35      168  43.1   \n",
       "\n",
       "   DiabetesPedigreeFunction  Age  Outcome  \n",
       "0                     0.627   50        1  \n",
       "1                     0.351   31        0  \n",
       "2                     0.672   32        1  \n",
       "3                     0.167   21        0  \n",
       "4                     2.288   33        1  "
      ]
     },
     "execution_count": 3,
     "metadata": {},
     "output_type": "execute_result"
    }
   ],
   "source": [
    "df = pd.read_csv(\"diabetes.csv\")\n",
    "df.head(5)"
   ]
  },
  {
   "cell_type": "code",
   "execution_count": 49,
   "id": "9d4718bb",
   "metadata": {},
   "outputs": [],
   "source": [
    "# Do with Logistic Regression\n",
    "# Function\n",
    "import copy\n",
    "import math\n",
    "\n",
    "def sigmoid(z):\n",
    "    return 1/(1+np.exp(-z))\n",
    "def compute_cost(x,y,w,b):\n",
    "    m = x.shape[0]\n",
    "    cost = 0.0\n",
    "    for i in range(m):\n",
    "        z_i = np.dot(x[i], w) + b\n",
    "        f_wb_i = sigmoid(z_i)\n",
    "        cost += -y[i]*np.log(f_wb_i) - (1-y[i])*np.log(1-f_wb_i)\n",
    "    \n",
    "    cost = cost/m\n",
    "    return cost\n",
    "\n",
    "def compute_gradient_descent(x,y,w,b):\n",
    "    m,n = x.shape\n",
    "    dj_w = np.zeros((n,))\n",
    "    dj_b = 0\n",
    "    for i in range(m):\n",
    "        f_wb_i = sigmoid(np.dot(x[i],w) + b)\n",
    "        err_i = f_wb_i - y[i]\n",
    "        for j in range(n):\n",
    "            dj_w[j] = dj_w[j] + err_i* x[i,j]\n",
    "        dj_b = dj_b + err_i\n",
    "    dj_w /= m\n",
    "    dj_b /= m\n",
    "    \n",
    "    return dj_w, dj_b\n",
    "\n",
    "def gradient_descent(x,y,w_in,b_in,alpha,epochs):\n",
    "    j_history = []\n",
    "    w = copy.deepcopy(w_in)\n",
    "    b = b_in\n",
    "    \n",
    "    initial_cost = compute_cost(x, y, w, b)\n",
    "    j_history.append(initial_cost)\n",
    "    \n",
    "    for i in range(epochs):\n",
    "        dj_w, dj_b = compute_gradient_descent(x,y,w,b)\n",
    "        \n",
    "        w = w - alpha * dj_w\n",
    "        b = b - alpha * dj_b\n",
    "        \n",
    "        if i<100000:\n",
    "            j_history.append( compute_cost(x,y,w,b) )\n",
    "        if i % math.ceil(epochs/10) == 0:\n",
    "            print(f\"Iteration {i:4d}: Cost {j_history[-1]}\")\n",
    "    return w, b, j_history"
   ]
  },
  {
   "cell_type": "code",
   "execution_count": 50,
   "id": "55965c3b",
   "metadata": {},
   "outputs": [
    {
     "data": {
      "text/plain": [
       "((601, 8), (601,), (168, 8), (168,))"
      ]
     },
     "execution_count": 50,
     "metadata": {},
     "output_type": "execute_result"
    }
   ],
   "source": [
    "x = df.drop('Outcome', axis=1)\n",
    "y = df['Outcome']\n",
    "x_train = x.loc[0:600,:].values\n",
    "x_test = x.loc[600:,:].values\n",
    "y_train = y.loc[0:600].values\n",
    "y_test = y.loc[600:].values\n",
    "x_train.shape, y_train.shape, x_test.shape, y_test.shape"
   ]
  },
  {
   "cell_type": "code",
   "execution_count": 82,
   "id": "6f2defa7",
   "metadata": {},
   "outputs": [
    {
     "name": "stdout",
     "output_type": "stream",
     "text": [
      "Iteration    0: Cost 0.674443019397975\n",
      "Iteration  300: Cost 0.6218515970864751\n",
      "Iteration  600: Cost 0.6202832308762841\n",
      "Iteration  900: Cost 0.6191592579035591\n",
      "Iteration 1200: Cost 0.6181947315804824\n",
      "Iteration 1500: Cost 0.6173403545717032\n",
      "Iteration 1800: Cost 0.6165738702602932\n",
      "Iteration 2100: Cost 0.6158817179143111\n",
      "Iteration 2400: Cost 0.6152542825955406\n",
      "Iteration 2700: Cost 0.6146840920716914\n"
     ]
    },
    {
     "data": {
      "text/plain": [
       "(array([ 0.04724783,  0.01111487, -0.02900922, -0.00335571,  0.00117795,\n",
       "         0.007211  ,  0.00169261, -0.00792097]),\n",
       " -0.011581725329604036)"
      ]
     },
     "execution_count": 82,
     "metadata": {},
     "output_type": "execute_result"
    }
   ],
   "source": [
    "w_init = np.zeros_like(x_train[0])\n",
    "b_init = 0.\n",
    "alpha = 0.0001\n",
    "epochs = 3000\n",
    "w,b,j_history = gradient_descent(x_train, y_train, w_init, b_init, alpha, epochs)\n",
    "w,b"
   ]
  },
  {
   "cell_type": "code",
   "execution_count": 66,
   "id": "88d33b7e",
   "metadata": {},
   "outputs": [
    {
     "data": {
      "text/plain": [
       "array([0, 1, 0, 0, 1, 0, 1, 0, 0, 0, 0, 1, 0, 0, 0, 0, 0, 0, 0, 1, 0, 0,\n",
       "       0, 0, 0, 0, 0, 0, 0, 0, 0, 0, 0, 0, 0, 0, 0, 0, 0, 0, 0, 0, 0, 1,\n",
       "       0, 1, 0, 1, 0, 0, 0, 0, 0, 0, 0, 1, 0, 0, 0, 0, 0, 1, 0, 0, 0, 0,\n",
       "       0, 0, 0, 0, 1, 0, 0, 0, 0, 1, 0, 0, 1, 0, 0, 0, 0, 0, 0, 0, 0, 0,\n",
       "       0, 0, 0, 0, 0, 0, 0, 0, 0, 1, 0, 0, 0, 0, 0, 1, 0, 0, 1, 1, 0, 0,\n",
       "       1, 0, 0, 1, 0, 1, 0, 0, 0, 0, 0, 0, 0, 0, 0, 0, 0, 0, 0, 0, 0, 0,\n",
       "       0, 0, 0, 0, 0, 0, 0, 0, 0, 1, 0, 0, 0, 0, 0, 0, 1, 1, 0, 0, 0, 1,\n",
       "       0, 0, 0, 0, 0, 0, 0, 1, 0, 0, 0, 0, 0, 0])"
      ]
     },
     "execution_count": 66,
     "metadata": {},
     "output_type": "execute_result"
    }
   ],
   "source": [
    "def predict(x,w,b):\n",
    "    m = x.shape[0]\n",
    "    pred = []\n",
    "    for i in range(m):\n",
    "        z_i = np.dot(x[i], w) + b\n",
    "        # therehold\n",
    "        if sigmoid(z_i) <= 0.5:\n",
    "            pred.append(0)\n",
    "        elif sigmoid(z_i) > 0.5:\n",
    "            pred.append(1)\n",
    "    return np.array(pred)\n",
    "y_pred = predict(x_test, w,b)\n",
    "y_pred"
   ]
  },
  {
   "cell_type": "code",
   "execution_count": 68,
   "id": "4764cd14",
   "metadata": {},
   "outputs": [
    {
     "data": {
      "text/html": [
       "<div>\n",
       "<style scoped>\n",
       "    .dataframe tbody tr th:only-of-type {\n",
       "        vertical-align: middle;\n",
       "    }\n",
       "\n",
       "    .dataframe tbody tr th {\n",
       "        vertical-align: top;\n",
       "    }\n",
       "\n",
       "    .dataframe thead th {\n",
       "        text-align: right;\n",
       "    }\n",
       "</style>\n",
       "<table border=\"1\" class=\"dataframe\">\n",
       "  <thead>\n",
       "    <tr style=\"text-align: right;\">\n",
       "      <th></th>\n",
       "      <th>Actual Values:</th>\n",
       "      <th>Predicted Values:</th>\n",
       "    </tr>\n",
       "  </thead>\n",
       "  <tbody>\n",
       "    <tr>\n",
       "      <th>0</th>\n",
       "      <td>0</td>\n",
       "      <td>0</td>\n",
       "    </tr>\n",
       "    <tr>\n",
       "      <th>1</th>\n",
       "      <td>0</td>\n",
       "      <td>1</td>\n",
       "    </tr>\n",
       "    <tr>\n",
       "      <th>2</th>\n",
       "      <td>0</td>\n",
       "      <td>0</td>\n",
       "    </tr>\n",
       "    <tr>\n",
       "      <th>3</th>\n",
       "      <td>1</td>\n",
       "      <td>0</td>\n",
       "    </tr>\n",
       "    <tr>\n",
       "      <th>4</th>\n",
       "      <td>1</td>\n",
       "      <td>1</td>\n",
       "    </tr>\n",
       "    <tr>\n",
       "      <th>...</th>\n",
       "      <td>...</td>\n",
       "      <td>...</td>\n",
       "    </tr>\n",
       "    <tr>\n",
       "      <th>163</th>\n",
       "      <td>0</td>\n",
       "      <td>0</td>\n",
       "    </tr>\n",
       "    <tr>\n",
       "      <th>164</th>\n",
       "      <td>0</td>\n",
       "      <td>0</td>\n",
       "    </tr>\n",
       "    <tr>\n",
       "      <th>165</th>\n",
       "      <td>0</td>\n",
       "      <td>0</td>\n",
       "    </tr>\n",
       "    <tr>\n",
       "      <th>166</th>\n",
       "      <td>1</td>\n",
       "      <td>0</td>\n",
       "    </tr>\n",
       "    <tr>\n",
       "      <th>167</th>\n",
       "      <td>0</td>\n",
       "      <td>0</td>\n",
       "    </tr>\n",
       "  </tbody>\n",
       "</table>\n",
       "<p>168 rows × 2 columns</p>\n",
       "</div>"
      ],
      "text/plain": [
       "     Actual Values:   Predicted Values: \n",
       "0                  0                   0\n",
       "1                  0                   1\n",
       "2                  0                   0\n",
       "3                  1                   0\n",
       "4                  1                   1\n",
       "..               ...                 ...\n",
       "163                0                   0\n",
       "164                0                   0\n",
       "165                0                   0\n",
       "166                1                   0\n",
       "167                0                   0\n",
       "\n",
       "[168 rows x 2 columns]"
      ]
     },
     "execution_count": 68,
     "metadata": {},
     "output_type": "execute_result"
    }
   ],
   "source": [
    "pd.DataFrame({'Actual Values: ' : y_test, 'Predicted Values: ': y_pred})"
   ]
  },
  {
   "cell_type": "code",
   "execution_count": 77,
   "id": "07d46930",
   "metadata": {},
   "outputs": [
    {
     "data": {
      "text/plain": [
       "'67.26%'"
      ]
     },
     "execution_count": 77,
     "metadata": {},
     "output_type": "execute_result"
    }
   ],
   "source": [
    "def accuracy(y_true, y_pred):\n",
    "    correct_predictions = np.sum(y_pred == y_true)\n",
    "    accuracy = correct_predictions / len(y_true)\n",
    "    return \"{:.2f}%\".format(accuracy * 100)\n",
    "accuracy(y_test, y_pred)\n",
    "# Accuracy is good let's do it with sklearn"
   ]
  },
  {
   "cell_type": "code",
   "execution_count": 79,
   "id": "170afde5",
   "metadata": {},
   "outputs": [
    {
     "name": "stdout",
     "output_type": "stream",
     "text": [
      "Accuracy: 0.7797619047619048\n",
      "Classification Report:\n",
      "              precision    recall  f1-score   support\n",
      "\n",
      "           0       0.79      0.90      0.84       108\n",
      "           1       0.76      0.57      0.65        60\n",
      "\n",
      "    accuracy                           0.78       168\n",
      "   macro avg       0.77      0.73      0.74       168\n",
      "weighted avg       0.78      0.78      0.77       168\n",
      "\n"
     ]
    }
   ],
   "source": [
    "from sklearn.linear_model import LogisticRegression\n",
    "from sklearn.metrics import accuracy_score, classification_report\n",
    "\n",
    "# Create a logistic regression model\n",
    "model = LogisticRegression(max_iter=3000)  # Increase max_iter for convergence\n",
    "\n",
    "# Train the model on the training data\n",
    "model.fit(x_train, y_train)\n",
    "\n",
    "# Make predictions on the testing data\n",
    "y_pred = model.predict(x_test)\n",
    "\n",
    "# Calculate accuracy\n",
    "accuracy = accuracy_score(y_test, y_pred)\n",
    "print(\"Accuracy:\", accuracy)\n",
    "\n",
    "# Classification report\n",
    "print(\"Classification Report:\")\n",
    "print(classification_report(y_test, y_pred))"
   ]
  },
  {
   "cell_type": "code",
   "execution_count": 80,
   "id": "8c728f1a",
   "metadata": {},
   "outputs": [
    {
     "name": "stdout",
     "output_type": "stream",
     "text": [
      "Computer w,b: [[ 1.18478236e-01  3.22860968e-02 -1.02285718e-02 -2.12132609e-03\n",
      "  -8.36661468e-04  1.01653043e-01  9.24124920e-01  8.70083948e-03]], [-8.38876762]\n",
      "My w,b: [ 0.04724783  0.01111487 -0.02900922 -0.00335571  0.00117795  0.007211\n",
      "  0.00169261 -0.00792097], -0.011581725329604036\n"
     ]
    }
   ],
   "source": [
    "print(f\"Computer w,b: {model.coef_}, {model.intercept_}\")\n",
    "print(f\"My w,b: {w}, {b}\")"
   ]
  }
 ],
 "metadata": {
  "kernelspec": {
   "display_name": "Python 3 (ipykernel)",
   "language": "python",
   "name": "python3"
  },
  "language_info": {
   "codemirror_mode": {
    "name": "ipython",
    "version": 3
   },
   "file_extension": ".py",
   "mimetype": "text/x-python",
   "name": "python",
   "nbconvert_exporter": "python",
   "pygments_lexer": "ipython3",
   "version": "3.11.5"
  }
 },
 "nbformat": 4,
 "nbformat_minor": 5
}
