{
 "cells": [
  {
   "cell_type": "code",
   "execution_count": 27,
   "id": "d000166f",
   "metadata": {},
   "outputs": [],
   "source": [
    "import pandas as pd\n",
    "import numpy as np\n",
    "import copy\n",
    "import multi_lin_reg_funcs"
   ]
  },
  {
   "cell_type": "code",
   "execution_count": 17,
   "id": "7f050ca2",
   "metadata": {},
   "outputs": [],
   "source": [
    "df = pd.read_csv(\"automobile_data.csv\", usecols=['wheel-base', 'horsepower', 'average-mileage','length','price'])\n",
    "df.fillna(method='bfill', inplace=True)"
   ]
  },
  {
   "cell_type": "code",
   "execution_count": 18,
   "id": "5bd91806",
   "metadata": {},
   "outputs": [
    {
     "data": {
      "text/plain": [
       "((10, 4), (0,))"
      ]
     },
     "execution_count": 18,
     "metadata": {},
     "output_type": "execute_result"
    }
   ],
   "source": [
    "# test vs train\n",
    "np.random.seed(42)\n",
    "x_test_samp = df.sample(10)\n",
    "x_test = x_test_samp.drop('price', axis=1)\n",
    "y_test = x_test_samp.drop(x_test_samp.index, axis=0)\n",
    "y_test = y_test.price\n",
    "x_test.shape, y_test.shape"
   ]
  },
  {
   "cell_type": "code",
   "execution_count": 24,
   "id": "ecd4dad9",
   "metadata": {},
   "outputs": [
    {
     "data": {
      "text/plain": [
       "((51, 4), (51,))"
      ]
     },
     "execution_count": 24,
     "metadata": {},
     "output_type": "execute_result"
    }
   ],
   "source": [
    "x_train_ = df.drop(x_test_samp.index, axis=0)\n",
    "x_train = x_train_.drop('price', axis=1)\n",
    "y_train = df.loc[x_train.index, 'price']\n",
    "x_train.shape, y_train.shape"
   ]
  },
  {
   "cell_type": "code",
   "execution_count": 37,
   "id": "1ebda1d0",
   "metadata": {},
   "outputs": [
    {
     "name": "stdout",
     "output_type": "stream",
     "text": [
      "Iteration: 0  Cost: 73121902.9680513\n",
      "Iteration: 1000  Cost: 35099193.05388406\n",
      "Iteration: 2000  Cost: 34536794.458115995\n",
      "Iteration: 3000  Cost: 34206966.51824578\n",
      "Iteration: 4000  Cost: 34000159.77411442\n",
      "Iteration: 5000  Cost: 33859640.14361769\n",
      "Iteration: 6000  Cost: 33755929.08370228\n",
      "Iteration: 7000  Cost: 33673620.89794059\n",
      "Iteration: 8000  Cost: 33604583.07152107\n",
      "Iteration: 9000  Cost: 33544448.447444364\n"
     ]
    },
    {
     "data": {
      "text/plain": [
       "(array([ 187.53212311,   -6.59499009,   73.57894281, -391.08935648]),\n",
       " -12.636189118866788)"
      ]
     },
     "execution_count": 37,
     "metadata": {},
     "output_type": "execute_result"
    }
   ],
   "source": [
    "# Gradient Descent\n",
    "w_init = np.zeros(4)\n",
    "b_init = 0\n",
    "w, b = multi_lin_reg_funcs.gradient_descent(x_train.values, y_train.values, w_init, b_init, 0.00001, 10000)\n",
    "w, b"
   ]
  },
  {
   "cell_type": "code",
   "execution_count": 38,
   "id": "574e8d14",
   "metadata": {},
   "outputs": [],
   "source": [
    "y_pred = multi_lin_reg_funcs.predict(x_test.values, w , b)"
   ]
  },
  {
   "cell_type": "code",
   "execution_count": 45,
   "id": "fc722d0a",
   "metadata": {},
   "outputs": [
    {
     "data": {
      "text/plain": [
       "5869.881911478795"
      ]
     },
     "execution_count": 45,
     "metadata": {},
     "output_type": "execute_result"
    }
   ],
   "source": [
    "multi_lin_reg_funcs.mae(x_test_samp.price.values , y_pred)"
   ]
  },
  {
   "cell_type": "code",
   "execution_count": 46,
   "id": "672950ad",
   "metadata": {},
   "outputs": [
    {
     "data": {
      "text/plain": [
       "array([15443.86175644, 18196.76388964, 24239.91710344, 11679.27409037,\n",
       "         785.23989218,  6457.67842708, 29350.85454241,  9325.68746819,\n",
       "       26841.71154845,  3066.81839555])"
      ]
     },
     "execution_count": 46,
     "metadata": {},
     "output_type": "execute_result"
    }
   ],
   "source": [
    "y_pred"
   ]
  }
 ],
 "metadata": {
  "kernelspec": {
   "display_name": "Python 3 (ipykernel)",
   "language": "python",
   "name": "python3"
  },
  "language_info": {
   "codemirror_mode": {
    "name": "ipython",
    "version": 3
   },
   "file_extension": ".py",
   "mimetype": "text/x-python",
   "name": "python",
   "nbconvert_exporter": "python",
   "pygments_lexer": "ipython3",
   "version": "3.11.5"
  }
 },
 "nbformat": 4,
 "nbformat_minor": 5
}
