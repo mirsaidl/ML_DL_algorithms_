{
 "cells": [
  {
   "cell_type": "code",
   "execution_count": 2,
   "id": "0fba1f7a",
   "metadata": {},
   "outputs": [],
   "source": [
    "# Functions manually\n",
    "import numpy as np\n",
    "import matplotlib.pyplot as plt\n",
    "plt.style.use('./deeplearning.mplstyle')\n",
    "\n",
    "import tensorflow as tf\n",
    "\n",
    "from lab_utils_common import dlc, sigmoid\n",
    "from lab_coffee_utils import load_coffee_data, plt_roast, plt_prob, plt_layer, plt_network, plt_output_unit\n",
    "\n",
    "import logging\n",
    "logging.getLogger(\"tensorflow\").setLevel(logging.ERROR)\n",
    "tf.autograph.set_verbosity(0)"
   ]
  },
  {
   "cell_type": "code",
   "execution_count": 3,
   "id": "4797ed9c",
   "metadata": {},
   "outputs": [
    {
     "data": {
      "text/plain": [
       "((200, 2), (200, 1))"
      ]
     },
     "execution_count": 3,
     "metadata": {},
     "output_type": "execute_result"
    }
   ],
   "source": [
    "x,y = load_coffee_data();\n",
    "x.shape, y.shape"
   ]
  },
  {
   "cell_type": "code",
   "execution_count": 9,
   "id": "23380167",
   "metadata": {},
   "outputs": [
    {
     "data": {
      "text/plain": [
       "(200, 2)"
      ]
     },
     "execution_count": 9,
     "metadata": {},
     "output_type": "execute_result"
    }
   ],
   "source": [
    "# Normalize data\n",
    "def normalize_data(x):\n",
    "    mean = np.mean(x)\n",
    "    st_dev = np.std(x)\n",
    "    xn = (x - mean) / st_dev\n",
    "    return xn\n",
    "xn = normalize_data(x)\n",
    "xn.shape"
   ]
  },
  {
   "cell_type": "code",
   "execution_count": 10,
   "id": "08c43937",
   "metadata": {},
   "outputs": [],
   "source": [
    "# Forward prop\n",
    "def sigmoid(z):\n",
    "    z = np.clip( z, -500, 500 )  # protect against overflow\n",
    "    g = 1.0/(1.0+np.exp(-z))\n",
    "\n",
    "    return g\n",
    "g = sigmoid"
   ]
  },
  {
   "cell_type": "code",
   "execution_count": 33,
   "id": "fe92d7cb",
   "metadata": {},
   "outputs": [],
   "source": [
    "def dense(a_in, W, b):\n",
    "    units = W.shape[1]\n",
    "    a_out = np.zeros(units)\n",
    "    for j in range(units):\n",
    "        w = W[:,j]\n",
    "        z = np.dot(w, a_in) + b[j]\n",
    "        a_out[j] = g(z)\n",
    "    return (a_out)\n",
    "def sequential(x, w1, b1, w2, b2):\n",
    "    a1 = dense(x, w1, b1)\n",
    "    a2 = dense(a1, w2, b2)\n",
    "    return (a2)\n",
    "def predict(x, w1, b1, w2, b2):\n",
    "    m = x.shape[0]\n",
    "    p = np.zeros((m,1))\n",
    "    for i in range(m):\n",
    "        p[i,0] = sequential(x[i], w1, b1, w2, b2)\n",
    "    yhat = np.zeros_like(p)\n",
    "    yhat = (p >= 0.5).astype(int)\n",
    "    \n",
    "    return (yhat)"
   ]
  },
  {
   "cell_type": "code",
   "execution_count": 34,
   "id": "451b481b",
   "metadata": {},
   "outputs": [],
   "source": [
    "W1_tmp = np.array( [[-8.93,  0.29, 12.9 ], [-0.1,  -7.32, 10.81]] )\n",
    "b1_tmp = np.array( [-9.82, -9.28,  0.96] )\n",
    "W2_tmp = np.array( [[-31.18], [-27.59], [-32.56]] )\n",
    "b2_tmp = np.array( [15.41] )"
   ]
  },
  {
   "cell_type": "code",
   "execution_count": 36,
   "id": "50eac597",
   "metadata": {},
   "outputs": [
    {
     "data": {
      "text/plain": [
       "array([[1],\n",
       "       [1],\n",
       "       [0],\n",
       "       [0]])"
      ]
     },
     "execution_count": 36,
     "metadata": {},
     "output_type": "execute_result"
    }
   ],
   "source": [
    "x_test = np.array([\n",
    "    [200, 13.9], # pos\n",
    "    [200, 17], # neg\n",
    "    [300, 15],\n",
    "    [250, 12]\n",
    "])\n",
    "x_tn = normalize_data(x_test)\n",
    "predict(x_tn, W1_tmp, b1_tmp, W2_tmp, b2_tmp)"
   ]
  }
 ],
 "metadata": {
  "kernelspec": {
   "display_name": "Python 3 (ipykernel)",
   "language": "python",
   "name": "python3"
  },
  "language_info": {
   "codemirror_mode": {
    "name": "ipython",
    "version": 3
   },
   "file_extension": ".py",
   "mimetype": "text/x-python",
   "name": "python",
   "nbconvert_exporter": "python",
   "pygments_lexer": "ipython3",
   "version": "3.11.5"
  }
 },
 "nbformat": 4,
 "nbformat_minor": 5
}
